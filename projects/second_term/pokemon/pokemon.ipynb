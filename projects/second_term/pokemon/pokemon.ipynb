{
 "cells": [
  {
   "attachments": {},
   "cell_type": "markdown",
   "metadata": {},
   "source": [
    "# Pokemon - Проект по МОПР №3"
   ]
  },
  {
   "attachments": {},
   "cell_type": "markdown",
   "metadata": {},
   "source": [
    "## Data Preprocessing - (правим ChatGPT)\n",
    "\n",
    "Имаме следните колони: name,height,weight,type,secundary type,hp,attack,defense,sp atk,sp def,speed\n",
    "\n",
    "*лек disclamer - някои задачи са разменени, просто защото има повече логика да са в реда, който са правени тук.*\n",
    "\n",
    "За които трябва да направим следните неща:"
   ]
  },
  {
   "cell_type": "code",
   "execution_count": 35,
   "metadata": {
    "vscode": {
     "languageId": "shellscript"
    }
   },
   "outputs": [
    {
     "name": "stdout",
     "output_type": "stream",
     "text": [
      "Requirement already satisfied: pandas in /opt/homebrew/lib/python3.10/site-packages (2.0.1)\n",
      "Requirement already satisfied: matplotlib in /opt/homebrew/lib/python3.10/site-packages (3.7.1)\n",
      "Requirement already satisfied: python-dateutil>=2.8.2 in /Users/kaloyandoychinov/Library/Python/3.10/lib/python/site-packages (from pandas) (2.8.2)\n",
      "Requirement already satisfied: pytz>=2020.1 in /opt/homebrew/lib/python3.10/site-packages (from pandas) (2023.3)\n",
      "Requirement already satisfied: tzdata>=2022.1 in /opt/homebrew/lib/python3.10/site-packages (from pandas) (2023.3)\n",
      "Requirement already satisfied: numpy>=1.21.0 in /opt/homebrew/lib/python3.10/site-packages (from pandas) (1.24.3)\n",
      "Requirement already satisfied: contourpy>=1.0.1 in /opt/homebrew/lib/python3.10/site-packages (from matplotlib) (1.0.7)\n",
      "Requirement already satisfied: cycler>=0.10 in /opt/homebrew/lib/python3.10/site-packages (from matplotlib) (0.11.0)\n",
      "Requirement already satisfied: fonttools>=4.22.0 in /opt/homebrew/lib/python3.10/site-packages (from matplotlib) (4.39.3)\n",
      "Requirement already satisfied: kiwisolver>=1.0.1 in /opt/homebrew/lib/python3.10/site-packages (from matplotlib) (1.4.4)\n",
      "Requirement already satisfied: packaging>=20.0 in /Users/kaloyandoychinov/Library/Python/3.10/lib/python/site-packages (from matplotlib) (23.1)\n",
      "Requirement already satisfied: pillow>=6.2.0 in /opt/homebrew/lib/python3.10/site-packages (from matplotlib) (9.4.0)\n",
      "Requirement already satisfied: pyparsing>=2.3.1 in /opt/homebrew/lib/python3.10/site-packages (from matplotlib) (3.0.9)\n",
      "Requirement already satisfied: six>=1.5 in /opt/homebrew/lib/python3.10/site-packages (from python-dateutil>=2.8.2->pandas) (1.16.0)\n",
      "Note: you may need to restart the kernel to use updated packages.\n"
     ]
    }
   ],
   "source": [
    "pip install pandas matplotlib"
   ]
  },
  {
   "cell_type": "code",
   "execution_count": 36,
   "metadata": {},
   "outputs": [
    {
     "name": "stdout",
     "output_type": "stream",
     "text": [
      "           name  height  weight      type secundary type     hp  attack   \n",
      "0     bulbasaur     7.0    69.0     grass         poison   45.0    49.0  \\\n",
      "1    fushigisou    10.0   130.0     grass         poison   60.0    62.0   \n",
      "2       ivysaur    10.0   130.0     grass         poison   60.0    62.0   \n",
      "3      venusaur    20.0  1000.0     grass         poison   80.0    82.0   \n",
      "4    charmander     6.0    85.0      fire           None   39.0    52.0   \n",
      "..          ...     ...     ...       ...            ...    ...     ...   \n",
      "894    drakloak    14.0   110.0    dragon          ghost   68.0    80.0   \n",
      "895   dragapult    30.0   500.0    dragon          ghost   88.0   120.0   \n",
      "896      zacian    28.0  1100.0     fairy           None   92.0   130.0   \n",
      "897   zamazenta    29.0  2100.0  fighting           None   92.0   130.0   \n",
      "898   eternatus   200.0  9500.0    poison         dragon  140.0    85.0   \n",
      "\n",
      "     defense  sp atk  sp def  speed  \n",
      "0       49.0    65.0    65.0   45.0  \n",
      "1       63.0    80.0    80.0   60.0  \n",
      "2       63.0    80.0    80.0   60.0  \n",
      "3       83.0   100.0   100.0   80.0  \n",
      "4       43.0    60.0    50.0   65.0  \n",
      "..       ...     ...     ...    ...  \n",
      "894     50.0    60.0    50.0  102.0  \n",
      "895     75.0   100.0    75.0  142.0  \n",
      "896    115.0    80.0   115.0  138.0  \n",
      "897    115.0    80.0   115.0  138.0  \n",
      "898     95.0   145.0    95.0  130.0  \n",
      "\n",
      "[899 rows x 11 columns]\n"
     ]
    }
   ],
   "source": [
    "import csv\n",
    "import pandas as pd\n",
    "import matplotlib.pyplot as plt\n",
    "\n",
    "NUMBER_OF_COLS = 11\n",
    "FILENAME = 'input.csv'\n",
    "\n",
    "# Read the csv file and keep None values\n",
    "df = pd.read_csv(FILENAME, keep_default_na=False, na_values=[\"\"])\n",
    "\n",
    "# print read data\n",
    "print(df)"
   ]
  },
  {
   "attachments": {},
   "cell_type": "markdown",
   "metadata": {},
   "source": [
    "### Задача 1: Премахване на дублирани данни (0.2 точки)\n",
    "Какво ще стане, ако запишем, че Гошо е ял мусака в 12:20 3 пъти? Ще направим грешно заключение, че Гошо яде много мусака. За да избегнем това, трябва да изчистим дублираните данни. Вашата задача е да изчистите файла pokemon_stats.csv от дублирани данни и да предоставите кода, чрез който сте го направили."
   ]
  },
  {
   "cell_type": "code",
   "execution_count": 37,
   "metadata": {},
   "outputs": [
    {
     "name": "stdout",
     "output_type": "stream",
     "text": [
      "           name  height  weight      type secundary type     hp  attack   \n",
      "0     bulbasaur     7.0    69.0     grass         poison   45.0    49.0  \\\n",
      "1    fushigisou    10.0   130.0     grass         poison   60.0    62.0   \n",
      "2       ivysaur    10.0   130.0     grass         poison   60.0    62.0   \n",
      "3      venusaur    20.0  1000.0     grass         poison   80.0    82.0   \n",
      "4    charmander     6.0    85.0      fire           None   39.0    52.0   \n",
      "..          ...     ...     ...       ...            ...    ...     ...   \n",
      "894    drakloak    14.0   110.0    dragon          ghost   68.0    80.0   \n",
      "895   dragapult    30.0   500.0    dragon          ghost   88.0   120.0   \n",
      "896      zacian    28.0  1100.0     fairy           None   92.0   130.0   \n",
      "897   zamazenta    29.0  2100.0  fighting           None   92.0   130.0   \n",
      "898   eternatus   200.0  9500.0    poison         dragon  140.0    85.0   \n",
      "\n",
      "     defense  sp atk  sp def  speed  \n",
      "0       49.0    65.0    65.0   45.0  \n",
      "1       63.0    80.0    80.0   60.0  \n",
      "2       63.0    80.0    80.0   60.0  \n",
      "3       83.0   100.0   100.0   80.0  \n",
      "4       43.0    60.0    50.0   65.0  \n",
      "..       ...     ...     ...    ...  \n",
      "894     50.0    60.0    50.0  102.0  \n",
      "895     75.0   100.0    75.0  142.0  \n",
      "896    115.0    80.0   115.0  138.0  \n",
      "897    115.0    80.0   115.0  138.0  \n",
      "898     95.0   145.0    95.0  130.0  \n",
      "\n",
      "[897 rows x 11 columns]\n"
     ]
    }
   ],
   "source": [
    "# Remove duplicates - on name column (only thing that can be duplicated)\n",
    "df.drop_duplicates(subset=['name'], inplace=True)\n",
    "\n",
    "# print modified data\n",
    "print(df)"
   ]
  },
  {
   "attachments": {},
   "cell_type": "markdown",
   "metadata": {},
   "source": [
    "### Задача 5: Премахване на празни данни (0.2 точки)\n",
    "В някои случаи провеждащите проучването лица оставят отговарящите да не попълнят някои въпроси и това оставя празни места. Тези празни места могат да попречат на проучването ни. Елиминирайте всички редове, които имат празни места в някоя колона. ВНИМАНИЕ: NONE НЕ Е ЗНАК ЗА ПРАЗНА КОЛОНА."
   ]
  },
  {
   "cell_type": "code",
   "execution_count": 38,
   "metadata": {},
   "outputs": [
    {
     "name": "stdout",
     "output_type": "stream",
     "text": [
      "           name  height  weight      type secundary type     hp  attack   \n",
      "0     bulbasaur     7.0    69.0     grass         poison   45.0    49.0  \\\n",
      "1    fushigisou    10.0   130.0     grass         poison   60.0    62.0   \n",
      "2       ivysaur    10.0   130.0     grass         poison   60.0    62.0   \n",
      "3      venusaur    20.0  1000.0     grass         poison   80.0    82.0   \n",
      "4    charmander     6.0    85.0      fire           None   39.0    52.0   \n",
      "..          ...     ...     ...       ...            ...    ...     ...   \n",
      "894    drakloak    14.0   110.0    dragon          ghost   68.0    80.0   \n",
      "895   dragapult    30.0   500.0    dragon          ghost   88.0   120.0   \n",
      "896      zacian    28.0  1100.0     fairy           None   92.0   130.0   \n",
      "897   zamazenta    29.0  2100.0  fighting           None   92.0   130.0   \n",
      "898   eternatus   200.0  9500.0    poison         dragon  140.0    85.0   \n",
      "\n",
      "     defense  sp atk  sp def  speed  \n",
      "0       49.0    65.0    65.0   45.0  \n",
      "1       63.0    80.0    80.0   60.0  \n",
      "2       63.0    80.0    80.0   60.0  \n",
      "3       83.0   100.0   100.0   80.0  \n",
      "4       43.0    60.0    50.0   65.0  \n",
      "..       ...     ...     ...    ...  \n",
      "894     50.0    60.0    50.0  102.0  \n",
      "895     75.0   100.0    75.0  142.0  \n",
      "896    115.0    80.0   115.0  138.0  \n",
      "897    115.0    80.0   115.0  138.0  \n",
      "898     95.0   145.0    95.0  130.0  \n",
      "\n",
      "[895 rows x 11 columns]\n"
     ]
    }
   ],
   "source": [
    "# Remove rows with any empty cells\n",
    "df.dropna(how='any', inplace=True)\n",
    "\n",
    "# print modified data\n",
    "print(df)"
   ]
  },
  {
   "attachments": {},
   "cell_type": "markdown",
   "metadata": {},
   "source": [
    "### Задача 3: Стандартизиране на главни и малки букви (0.2 точки)\n",
    "За да не оставите програмата да класифицира МЕСО и месо като различни продукти, важно е да стандартизирате формата на текста. Стандартизирайте категорийните променливи в избран от вас формат."
   ]
  },
  {
   "cell_type": "code",
   "execution_count": 39,
   "metadata": {},
   "outputs": [],
   "source": [
    "# Standardize the data - make all strings lowercase\n",
    "df = df.apply(lambda x: x.astype(str).str.lower())"
   ]
  },
  {
   "attachments": {},
   "cell_type": "markdown",
   "metadata": {},
   "source": [
    "### Задача 2: Премахване на технически грешки в данните (0.2 точки)\n",
    "Ако знаете, че Гошо яде или мусака, или сарми за обяд, как ще реагирате, когато вашата програма ви покаже, че той яде и мосака, и сърнди? Очевидно това са правописни грешки. Във файла, pokemon_stats.csv, ще видите, че типовете на покемоните имат някои грешки. Задачата е да ги поправите. Ако не сте запознати с типовете на покемоните, използвайте Гугъл."
   ]
  },
  {
   "cell_type": "code",
   "execution_count": 43,
   "metadata": {},
   "outputs": [
    {
     "name": "stdout",
     "output_type": "stream",
     "text": [
      "===================\n",
      "Incorrect types:\n",
      "        name height weight   type secundary type   hp attack defense sp atk   \n",
      "73  jesusmon   10.0   64.0  gooff            mon  5.0    4.0     1.0    2.0  \\\n",
      "\n",
      "   sp def speed  \n",
      "73    3.0   6.0  \n",
      "===================\n",
      "Incorrect secundary types:\n",
      "        name  height   weight   type secundary type   hp attack defense   \n",
      "50     snake  3000.0  30000.0    bug          snake  1.0    1.0     1.0  \\\n",
      "73  jesusmon    10.0     64.0  gooff            mon  5.0    4.0     1.0   \n",
      "\n",
      "   sp atk sp def speed  \n",
      "50    1.0    1.0   1.0  \n",
      "73    2.0    3.0   6.0  \n"
     ]
    }
   ],
   "source": [
    "# Задача 2: Премахване на технически грешки в данните (0.2 точки)\n",
    "# Ако знаете, че Гошо яде или мусака, или сарми за обяд, как ще реагирате, когато вашата програма ви покаже, че той яде и мосака, и сърнди? Очевидно това са правописни грешки. Във файла, pokemon_stats.csv, ще видите, че типовете на покемоните имат някои грешки. Задачата е да ги поправите. Ако не сте запознати с типовете на покемоните, използвайте Гугъл.\n",
    "\n",
    "# Correct Pokemon types\n",
    "CORRECT_TYPES = [\n",
    "    \"Normal\",\n",
    "    \"Fire\",\n",
    "    \"Fighting\",\n",
    "    \"Water\",\n",
    "    \"Flying\",\n",
    "    \"Grass\",\n",
    "    \"Poison\",\n",
    "    \"Electric\",\n",
    "    \"Ground\",\n",
    "    \"Psychic\",\n",
    "    \"Rock\",\n",
    "    \"Ice\",\n",
    "    \"Bug\",\n",
    "    \"Dragon\",\n",
    "    \"Ghost\",\n",
    "    \"Dark\",\n",
    "    \"Steel\",\n",
    "    \"Fairy\",\n",
    "    \"???\",\n",
    "    \"None\" # none is also correct, since you can use it for the second type\n",
    "]\n",
    "\n",
    "# make all types lowercase\n",
    "CORRECT_TYPES = [x.lower() for x in CORRECT_TYPES]\n",
    "\n",
    "# print the rows with incorrect types\n",
    "print(\"===================\\nIncorrect types:\")\n",
    "print(df[~df['type'].isin(CORRECT_TYPES)])\n",
    "print(\"===================\\nIncorrect secundary types:\")\n",
    "print(df[~df['secundary type'].isin(CORRECT_TYPES)])\n"
   ]
  }
 ],
 "metadata": {
  "kernelspec": {
   "display_name": "Python 3",
   "language": "python",
   "name": "python3"
  },
  "language_info": {
   "codemirror_mode": {
    "name": "ipython",
    "version": 3
   },
   "file_extension": ".py",
   "mimetype": "text/x-python",
   "name": "python",
   "nbconvert_exporter": "python",
   "pygments_lexer": "ipython3",
   "version": "3.10.9"
  },
  "orig_nbformat": 4
 },
 "nbformat": 4,
 "nbformat_minor": 2
}
